{
 "cells": [
  {
   "cell_type": "code",
   "execution_count": null,
   "id": "14251c08",
   "metadata": {},
   "outputs": [],
   "source": [
    "from dotenv import load_dotenv\n",
    "import os\n",
    "load_dotenv()\n",
    "\n",
    "# openaiApiKey"
   ]
  },
  {
   "cell_type": "code",
   "execution_count": null,
   "id": "7f9d604c",
   "metadata": {},
   "outputs": [
    {
     "name": "stdout",
     "output_type": "stream",
     "text": [
      "content='Hello! How can I assist you today?' additional_kwargs={'refusal': None} response_metadata={'token_usage': {'completion_tokens': 9, 'prompt_tokens': 10, 'total_tokens': 19, 'completion_tokens_details': {'accepted_prediction_tokens': 0, 'audio_tokens': 0, 'reasoning_tokens': 0, 'rejected_prediction_tokens': 0}, 'prompt_tokens_details': {'audio_tokens': 0, 'cached_tokens': 0}}, 'model_name': 'gpt-4o-mini-2024-07-18', 'system_fingerprint': 'fp_560af6e559', 'id': 'chatcmpl-CJed8JQ95SYdKojkV3x4K9tmLYoOa', 'service_tier': 'default', 'finish_reason': 'stop', 'logprobs': None} id='run--3e556129-ff13-4541-9188-df7613a07394-0' usage_metadata={'input_tokens': 10, 'output_tokens': 9, 'total_tokens': 19, 'input_token_details': {'audio': 0, 'cache_read': 0}, 'output_token_details': {'audio': 0, 'reasoning': 0}}\n"
     ]
    }
   ],
   "source": [
    "from langchain_openai import ChatOpenAI, OpenAI\n",
    "\n",
    "chat = ChatOpenAI(\n",
    "    model=\"gpt-4o-mini-2024-07-18\"\n",
    ")\n",
    "\n",
    "print(chat.invoke(\"Hello World!\"))"
   ]
  },
  {
   "cell_type": "markdown",
   "id": "68b4a71e",
   "metadata": {},
   "source": [
    "*Message Schema*"
   ]
  },
  {
   "cell_type": "code",
   "execution_count": 26,
   "id": "f3799f47",
   "metadata": {},
   "outputs": [],
   "source": [
    "from langchain_openai import ChatOpenAI\n",
    "\n",
    "chat = ChatOpenAI(\n",
    "    model=\"gpt-4o-mini\",\n",
    "    temperature=0.1\n",
    ")"
   ]
  },
  {
   "cell_type": "code",
   "execution_count": 27,
   "id": "c650b43c",
   "metadata": {},
   "outputs": [
    {
     "data": {
      "text/plain": [
       "AIMessage(content='죄송하지만, {country_a}와 {country_b}의 거리를 제공할 수는 없습니다. 하지만 다른 질문이 있다면 도와드릴 수 있습니다! 제 이름은 {name}입니다.', additional_kwargs={'refusal': None}, response_metadata={'token_usage': {'completion_tokens': 43, 'prompt_tokens': 59, 'total_tokens': 102, 'completion_tokens_details': {'accepted_prediction_tokens': 0, 'audio_tokens': 0, 'reasoning_tokens': 0, 'rejected_prediction_tokens': 0}, 'prompt_tokens_details': {'audio_tokens': 0, 'cached_tokens': 0}}, 'model_name': 'gpt-4o-mini-2024-07-18', 'system_fingerprint': 'fp_560af6e559', 'id': 'chatcmpl-CJedTC7ErlQe4CMdtPfVN6bYZIvnZ', 'service_tier': 'default', 'finish_reason': 'stop', 'logprobs': None}, id='run--405805bd-f536-442a-836e-c0eec710c333-0', usage_metadata={'input_tokens': 59, 'output_tokens': 43, 'total_tokens': 102, 'input_token_details': {'audio': 0, 'cache_read': 0}, 'output_token_details': {'audio': 0, 'reasoning': 0}})"
      ]
     },
     "execution_count": 27,
     "metadata": {},
     "output_type": "execute_result"
    }
   ],
   "source": [
    "from langchain.schema import HumanMessage, AIMessage, SystemMessage\n",
    "messages = [\n",
    "    SystemMessage(\n",
    "        content=\"You are a geography expert. And you only reply in {language}\"\n",
    "    ),\n",
    "    AIMessage(\n",
    "        content=\"안녕, 난 {name}야!\"\n",
    "    ),\n",
    "    HumanMessage(\n",
    "        content=\"What is the distance between {country_a} and {country_b}. Also, what is your name?\"\n",
    "    )\n",
    "]\n",
    "\n",
    "chat.predict_messages(messages=messages)"
   ]
  },
  {
   "cell_type": "code",
   "execution_count": 1,
   "id": "1f4f7000",
   "metadata": {},
   "outputs": [
    {
     "name": "stderr",
     "output_type": "stream",
     "text": [
      "/var/folders/h7/4cv0q0kj0bq39hdg5q154dbw0000gn/T/ipykernel_94528/76385627.py:15: LangChainDeprecationWarning: The method `BaseChatModel.predict` was deprecated in langchain-core 0.1.7 and will be removed in 1.0. Use :meth:`~invoke` instead.\n",
      "  chat.predict(prompt)\n"
     ]
    },
    {
     "data": {
      "text/plain": [
       "'The distance between Korea and Japan varies depending on the specific locations being measured. The shortest distance is between Busan, South Korea, and Fukuoka, Japan, which is approximately 200 kilometers (about 124 miles) across the Korea Strait. Other routes, such as from Seoul to Tokyo, are longer, typically around 1,150 kilometers (about 715 miles) when considering air travel.'"
      ]
     },
     "execution_count": 1,
     "metadata": {},
     "output_type": "execute_result"
    }
   ],
   "source": [
    "from langchain_openai import ChatOpenAI\n",
    "from langchain_core.prompts import PromptTemplate, ChatPromptTemplate\n",
    "\n",
    "chat = ChatOpenAI(\n",
    "    model=\"gpt-4o-mini\",\n",
    "    temperature=0.1\n",
    ")\n",
    "\n",
    "template = PromptTemplate.from_template(\n",
    "    \"What is the distance between {country_a} and {country_b}\"\n",
    ")\n",
    "\n",
    "prompt = template.format(country_a=\"korea\", country_b=\"Japan\")\n",
    "\n",
    "chat.predict(prompt)"
   ]
  },
  {
   "cell_type": "code",
   "execution_count": 2,
   "id": "0c71fe7f",
   "metadata": {},
   "outputs": [
    {
     "data": {
      "text/plain": [
       "AIMessage(content='한국과 일본 사이의 거리는 가장 가까운 지점인 인천과 후쿠오카 사이에서 약 200킬로미터 정도입니다. 제 이름은 가엥지입니다!', additional_kwargs={'refusal': None}, response_metadata={'token_usage': {'completion_tokens': 41, 'prompt_tokens': 53, 'total_tokens': 94, 'completion_tokens_details': {'accepted_prediction_tokens': 0, 'audio_tokens': 0, 'reasoning_tokens': 0, 'rejected_prediction_tokens': 0}, 'prompt_tokens_details': {'audio_tokens': 0, 'cached_tokens': 0}}, 'model_name': 'gpt-4o-mini-2024-07-18', 'system_fingerprint': 'fp_560af6e559', 'id': 'chatcmpl-CJeeZe6X8BfYS9E4K2gRLPhOsg2VZ', 'service_tier': 'default', 'finish_reason': 'stop', 'logprobs': None}, id='run--ffb932ca-01b5-418a-b433-772e2d9a4bc5-0', usage_metadata={'input_tokens': 53, 'output_tokens': 41, 'total_tokens': 94, 'input_token_details': {'audio': 0, 'cache_read': 0}, 'output_token_details': {'audio': 0, 'reasoning': 0}})"
      ]
     },
     "execution_count": 2,
     "metadata": {},
     "output_type": "execute_result"
    }
   ],
   "source": [
    "template = ChatPromptTemplate.from_messages(\n",
    "    [\n",
    "        (\"system\", \"You are a geography expert. And you only reply in {language}\"),\n",
    "        (\"ai\", \"Ciao, mi chiamo {name}!\"),\n",
    "        (\n",
    "            \"human\",\n",
    "            \"What is the distance between {country_a} and {country_b}. Also, what is your name?\"\n",
    "        )\n",
    "    ]\n",
    ")\n",
    "\n",
    "prompt = template.format_messages(\n",
    "    language = \"Korean\",\n",
    "    name=\"gaengji\",\n",
    "    country_a=\"Korea\",\n",
    "    country_b=\"Japan\"\n",
    ")\n",
    "\n",
    "chat.invoke(prompt)"
   ]
  },
  {
   "cell_type": "markdown",
   "id": "7f3064ca",
   "metadata": {},
   "source": [
    "Output Parser"
   ]
  },
  {
   "cell_type": "code",
   "execution_count": 3,
   "id": "06435c60",
   "metadata": {},
   "outputs": [],
   "source": [
    "from langchain_openai import ChatOpenAI\n",
    "from langchain_core.prompts import ChatPromptTemplate\n",
    "\n",
    "chat = ChatOpenAI(\n",
    "    model=\"gpt-4o-mini\",\n",
    "    temperature=0.1\n",
    ")"
   ]
  },
  {
   "cell_type": "code",
   "execution_count": null,
   "id": "c88ad6e8",
   "metadata": {},
   "outputs": [],
   "source": [
    "from langchain.schema import BaseOutputParser\n",
    " \n",
    "class CommaOutputParser(BaseOutputParser):\n",
    "    def parse(self, text):\n",
    "        items = text.strip().split(\",\")\n",
    "        return list(map(str.strip, items))"
   ]
  },
  {
   "cell_type": "code",
   "execution_count": 5,
   "id": "ed4455e0",
   "metadata": {},
   "outputs": [],
   "source": [
    "template = ChatPromptTemplate.from_messages(\n",
    "    [\n",
    "        (\"system\",\n",
    "        \"You are a list generating machine. Everything you are asked will be answered with a comma separated list of max \\\n",
    "        {max_items} in lowercase. DO NOT reply anything else\"\n",
    "        ),\n",
    "        (\"human\", \"{question}\")\n",
    "    ]\n",
    ")"
   ]
  },
  {
   "cell_type": "code",
   "execution_count": 6,
   "id": "cb5c604b",
   "metadata": {},
   "outputs": [
    {
     "data": {
      "text/plain": [
       "['pikachu', 'bulbasaur', 'charmander', 'squirtle', 'jigglypuff']"
      ]
     },
     "execution_count": 6,
     "metadata": {},
     "output_type": "execute_result"
    }
   ],
   "source": [
    "chain = template | chat | CommaOutputParser()\n",
    "\n",
    "chain.invoke(\n",
    "    {\n",
    "        \"max_items\" : 5,\n",
    "        \"question\" : \"What are the pokemons?\"\n",
    "    }\n",
    ")"
   ]
  },
  {
   "cell_type": "markdown",
   "id": "6fdc38b2",
   "metadata": {},
   "source": []
  },
  {
   "cell_type": "code",
   "execution_count": 7,
   "id": "9762a5e0",
   "metadata": {},
   "outputs": [],
   "source": [
    "from langchain_openai import ChatOpenAI\n",
    "from langchain_core.prompts import ChatPromptTemplate\n",
    "from langchain.callbacks import StreamingStdOutCallbackHandler\n",
    "\n",
    "chat = ChatOpenAI(\n",
    "    temperature =0.1,\n",
    "    streaming = True,\n",
    "    callbacks = [StreamingStdOutCallbackHandler()]\n",
    ")\n",
    "\n",
    "chef_prompt = ChatPromptTemplate.from_messages(\n",
    "    [\n",
    "        (\n",
    "            \"system\",\n",
    "            \"\",\n",
    "        ),\n",
    "        (\n",
    "            \"human\", \"I want to cook {cuisine} food.\"\n",
    "        )\n",
    "    ]\n",
    ")\n",
    "\n",
    "chef_chain = chef_prompt | chat"
   ]
  },
  {
   "cell_type": "code",
   "execution_count": 8,
   "id": "ac3e7249",
   "metadata": {},
   "outputs": [
    {
     "name": "stdout",
     "output_type": "stream",
     "text": [
      "That's great! Italian cuisine is known for its delicious flavors and variety of dishes. Here are a few classic Italian recipes you can try:\n",
      "\n",
      "1. Spaghetti Carbonara: A simple yet flavorful pasta dish made with spaghetti, eggs, pancetta, and cheese.\n",
      "\n",
      "2. Margherita Pizza: A classic pizza topped with tomato sauce, fresh mozzarella, basil, and a drizzle of olive oil.\n",
      "\n",
      "3. Risotto alla Milanese: Creamy and comforting risotto flavored with saffron, butter, and Parmesan cheese.\n",
      "\n",
      "4. Eggplant Parmesan: Layers of breaded and fried eggplant slices, marinara sauce, and cheese, baked until bubbly and golden.\n",
      "\n",
      "5. Tiramisu: A decadent dessert made with layers of coffee-soaked ladyfingers, mascarpone cheese, and cocoa powder.\n",
      "\n",
      "These are just a few ideas to get you started. Enjoy your Italian cooking adventure!For the Spaghetti Carbonara recipe, you can replace pancetta with vegetarian bacon or smoked tofu. Vegetarian bacon can be pan-fried until crispy and then chopped into small pieces to mimic the texture of pancetta. Smoked tofu can also be pan-fried until golden and crispy before adding it to the pasta.\n",
      "\n",
      "For the Margherita Pizza, you can use plant-based mozzarella cheese as a substitute for traditional mozzarella. There are many brands available that melt and stretch like dairy cheese, providing a similar taste and texture to the dish.\n",
      "\n",
      "In Risotto alla Milanese, you can omit the saffron if you're unable to find a suitable vegetarian alternative. Saffron is a unique spice, and its flavor is challenging to replicate. The dish will still be delicious without it.\n",
      "\n",
      "For Eggplant Parmesan, you can bread and bake the eggplant slices instead of frying them to reduce the oil content. Baking the breaded eggplant slices at a high temperature until they are crispy can provide a healthier alternative to the traditional fried version.\n",
      "\n",
      "In Tiramisu, you can use eggless ladyfingers or sponge cake as a substitute for the traditional ladyfingers. These can be soaked in strong coffee or espresso to achieve the same flavor profile. Additionally, you can use a vegan cream cheese or cashew-based cream as a replacement for mascarpone cheese to keep the dessert dairy-free.\n",
      "\n",
      "I hope these alternatives help you enjoy these classic Italian recipes in a vegetarian-friendly way!"
     ]
    },
    {
     "data": {
      "text/plain": [
       "AIMessage(content=\"For the Spaghetti Carbonara recipe, you can replace pancetta with vegetarian bacon or smoked tofu. Vegetarian bacon can be pan-fried until crispy and then chopped into small pieces to mimic the texture of pancetta. Smoked tofu can also be pan-fried until golden and crispy before adding it to the pasta.\\n\\nFor the Margherita Pizza, you can use plant-based mozzarella cheese as a substitute for traditional mozzarella. There are many brands available that melt and stretch like dairy cheese, providing a similar taste and texture to the dish.\\n\\nIn Risotto alla Milanese, you can omit the saffron if you're unable to find a suitable vegetarian alternative. Saffron is a unique spice, and its flavor is challenging to replicate. The dish will still be delicious without it.\\n\\nFor Eggplant Parmesan, you can bread and bake the eggplant slices instead of frying them to reduce the oil content. Baking the breaded eggplant slices at a high temperature until they are crispy can provide a healthier alternative to the traditional fried version.\\n\\nIn Tiramisu, you can use eggless ladyfingers or sponge cake as a substitute for the traditional ladyfingers. These can be soaked in strong coffee or espresso to achieve the same flavor profile. Additionally, you can use a vegan cream cheese or cashew-based cream as a replacement for mascarpone cheese to keep the dessert dairy-free.\\n\\nI hope these alternatives help you enjoy these classic Italian recipes in a vegetarian-friendly way!\", additional_kwargs={}, response_metadata={'finish_reason': 'stop', 'model_name': 'gpt-3.5-turbo-0125', 'service_tier': 'default'}, id='run--43e341ee-1c7f-4b6c-80fc-d0aa8fa64caa-0')"
      ]
     },
     "execution_count": 8,
     "metadata": {},
     "output_type": "execute_result"
    }
   ],
   "source": [
    "veg_chef_prompt = ChatPromptTemplate.from_messages(\n",
    "    [\n",
    "        (\n",
    "            \"system\",\n",
    "            \"You are a vegetarian chef specialized on making traditional recipies vegetarian. You find alternative ingredients and explain their preparation. You don't radically modify the recipe. If there is no alternative for a food just say you don't know how to replace it.\"\n",
    "        ),\n",
    "        (\"human\", \"{recipe}\")\n",
    "    ]\n",
    ")\n",
    "\n",
    "veg_chain = veg_chef_prompt | chat\n",
    "\n",
    "final_chain = chef_chain | veg_chain\n",
    "\n",
    "final_chain.invoke(\n",
    "    {\n",
    "        \"cuisine\" : \"Italian\"\n",
    "    }\n",
    ")"
   ]
  }
 ],
 "metadata": {
  "kernelspec": {
   "display_name": "langchain-7day",
   "language": "python",
   "name": "python3"
  },
  "language_info": {
   "codemirror_mode": {
    "name": "ipython",
    "version": 3
   },
   "file_extension": ".py",
   "mimetype": "text/x-python",
   "name": "python",
   "nbconvert_exporter": "python",
   "pygments_lexer": "ipython3",
   "version": "3.13.3"
  }
 },
 "nbformat": 4,
 "nbformat_minor": 5
}
