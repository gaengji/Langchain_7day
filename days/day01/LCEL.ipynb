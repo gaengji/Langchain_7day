{
 "cells": [
  {
   "cell_type": "code",
   "execution_count": null,
   "id": "14251c08",
   "metadata": {},
   "outputs": [],
   "source": [
    "from langchain_openai import ChatOpenAI, OpenAI\n",
    "\n",
    "chat = ChatOpenAI (\n",
    "    model=\"gpt-4o-mini-2024-07-18\"\n",
    ")\n",
    "\n",
    "print(chat.invoke(\"How many planets are there?\"))"
   ]
  },
  {
   "cell_type": "markdown",
   "id": "68b4a71e",
   "metadata": {},
   "source": [
    "*Message Schema*"
   ]
  },
  {
   "cell_type": "code",
   "execution_count": null,
   "id": "f3799f47",
   "metadata": {},
   "outputs": [],
   "source": [
    "from langchain_openai import ChatOpenAI\n",
    "\n",
    "chat = ChatOpenAI(\n",
    "    model=\"gpt-4o-mini-2024-07-18\",\n",
    "    temperature=0.1\n",
    ")"
   ]
  },
  {
   "cell_type": "code",
   "execution_count": null,
   "id": "c650b43c",
   "metadata": {},
   "outputs": [],
   "source": [
    "from langchain.schema import HumanMessage, AIMessage, SystemMessage\n",
    "\n",
    "messages = [\n",
    "    SystemMessage(\n",
    "        content=\"You are a geography export. And You only reply in {language}\"\n",
    "    ),\n",
    "    AIMessage(\n",
    "        content=\"Ciao, mi chiamo {name}!\"\n",
    "    ),\n",
    "    HumanMessage(\n",
    "        content=\"What is the distance between {country_a} and {country_b}. Also, what is your name \"\n",
    "    )\n",
    "]\n",
    "\n",
    "chat.predict_messages(messages=messages)"
   ]
  },
  {
   "cell_type": "code",
   "execution_count": null,
   "id": "1f4f7000",
   "metadata": {},
   "outputs": [],
   "source": [
    "from langchain_openai import ChatOpenAI\n",
    "from langchain_core.prompts import PromptTemplate, ChatPromptTemplate\n",
    "\n",
    "chat = ChatOpenAI(\n",
    "    model=\"gpt-4o-mini\",\n",
    "    temperature=0.1\n",
    ")\n",
    "\n",
    "template = PromptTemplate.from_template(\n",
    "    \"What is the distance between {country_a} and {country_b}\"\n",
    ")\n",
    "\n",
    "prompt = template.format(country_a=\"korea\", country_b=\"japan\")\n",
    "\n",
    "chat.predict(prompt)"
   ]
  },
  {
   "cell_type": "code",
   "execution_count": null,
   "id": "0c71fe7f",
   "metadata": {},
   "outputs": [],
   "source": [
    "template = ChatPromptTemplate.from_messages(\n",
    "    [\n",
    "        {\"system\", \"You are a geography expert And you only reply in {language}\"},\n",
    "        {\"ai\", \"Ciao,, mi chiamo {name}!\"},\n",
    "        [\n",
    "            \"human\",\n",
    "            \"What is distance between {country_a} and {country_b}. Also, what is your name\"\n",
    "        ]\n",
    "    ]\n",
    ")\n",
    "\n",
    "prompt = template .format_messages(\n",
    "    language=\"korean\",\n",
    "    name=\"geaengji\"\n",
    "    country_a=\"spain\"\n",
    "    country_b=\"usa\"\n",
    ")\n",
    "\n",
    "chat.invoke(prompt)"
   ]
  }
 ],
 "metadata": {
  "kernelspec": {
   "display_name": "langchain-7day",
   "language": "python",
   "name": "python3"
  },
  "language_info": {
   "codemirror_mode": {
    "name": "ipython",
    "version": 3
   },
   "file_extension": ".py",
   "mimetype": "text/x-python",
   "name": "python",
   "nbconvert_exporter": "python",
   "pygments_lexer": "ipython3",
   "version": "3.13.3"
  }
 },
 "nbformat": 4,
 "nbformat_minor": 5
}
